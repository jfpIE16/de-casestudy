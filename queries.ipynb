{
 "cells": [
  {
   "cell_type": "code",
   "execution_count": 2,
   "metadata": {},
   "outputs": [],
   "source": [
    "from dotenv import load_dotenv\n",
    "from sqlalchemy.engine import URL, create_engine\n",
    "import os"
   ]
  },
  {
   "cell_type": "code",
   "execution_count": 3,
   "metadata": {},
   "outputs": [
    {
     "data": {
      "text/plain": [
       "True"
      ]
     },
     "execution_count": 3,
     "metadata": {},
     "output_type": "execute_result"
    }
   ],
   "source": [
    "load_dotenv(override=True)  # take environment variables from .env."
   ]
  },
  {
   "cell_type": "code",
   "execution_count": 4,
   "metadata": {},
   "outputs": [],
   "source": [
    "connection_url = URL.create(\"mssql+pyodbc\", query={\"odbc_connect\": os.getenv('conn_str')})"
   ]
  },
  {
   "cell_type": "code",
   "execution_count": 5,
   "metadata": {},
   "outputs": [],
   "source": [
    "%load_ext sql"
   ]
  },
  {
   "cell_type": "code",
   "execution_count": 6,
   "metadata": {},
   "outputs": [
    {
     "name": "stdout",
     "output_type": "stream",
     "text": [
      "env: DATABASE_URL=mssql+pyodbc://?odbc_connect=DRIVER%3D%7BODBC+Driver+18+for+SQL+Server%7D%3BSERVER%3Djfpdb.database.windows.net%3BDATABASE%3Djfpdb%3BUID%3Djfp%3BPWD%3D16%2AraccIEjos\n"
     ]
    }
   ],
   "source": [
    "%env  DATABASE_URL=$connection_url"
   ]
  },
  {
   "cell_type": "code",
   "execution_count": 24,
   "metadata": {},
   "outputs": [
    {
     "name": "stdout",
     "output_type": "stream",
     "text": [
      " * mssql+pyodbc://?odbc_connect=DRIVER%3D%7BODBC+Driver+18+for+SQL+Server%7D%3BSERVER%3Djfpdb.database.windows.net%3BDATABASE%3Djfpdb%3BUID%3Djfp%3BPWD%3D16%2AraccIEjos\n",
      "Done.\n"
     ]
    },
    {
     "data": {
      "text/html": [
       "<table>\n",
       "    <thead>\n",
       "        <tr>\n",
       "            <th>gender</th>\n",
       "            <th>gender_disease_pct</th>\n",
       "        </tr>\n",
       "    </thead>\n",
       "    <tbody>\n",
       "        <tr>\n",
       "            <td>Male</td>\n",
       "            <td>50.45</td>\n",
       "        </tr>\n",
       "        <tr>\n",
       "            <td>Female</td>\n",
       "            <td>50.24</td>\n",
       "        </tr>\n",
       "    </tbody>\n",
       "</table>"
      ],
      "text/plain": [
       "[('Male', Decimal('50.45')), ('Female', Decimal('50.24'))]"
      ]
     },
     "execution_count": 24,
     "metadata": {},
     "output_type": "execute_result"
    }
   ],
   "source": [
    "%%sql\n",
    "WITH gender_total_disease AS (\n",
    "    SELECT \n",
    "        gender,\n",
    "        count(*) total_disease\n",
    "    FROM healthcare.health_data \n",
    "    WHERE heart_disease = 1  \n",
    "    GROUP BY gender\n",
    "),\n",
    "gender_total_count AS (\n",
    "    SELECT\n",
    "        gender,\n",
    "        count(*) total_count\n",
    "    FROM healthcare.health_data\n",
    "    GROUP BY gender\n",
    ")\n",
    "SELECT\n",
    "    a.gender,\n",
    "    CAST((a.total_disease*1.0 / b.total_count) * 100 AS decimal(4,2)) as gender_disease_pct\n",
    "FROM\n",
    "    gender_total_disease a\n",
    "JOIN\n",
    "    gender_total_count b ON a.gender = b.gender;\n"
   ]
  },
  {
   "cell_type": "code",
   "execution_count": 34,
   "metadata": {},
   "outputs": [
    {
     "name": "stdout",
     "output_type": "stream",
     "text": [
      " * mssql+pyodbc://?odbc_connect=DRIVER%3D%7BODBC+Driver+18+for+SQL+Server%7D%3BSERVER%3Djfpdb.database.windows.net%3BDATABASE%3Djfpdb%3BUID%3Djfp%3BPWD%3D16%2AraccIEjos\n",
      "Done.\n"
     ]
    },
    {
     "data": {
      "text/html": [
       "<table>\n",
       "    <thead>\n",
       "        <tr>\n",
       "            <th>AGEGROUP</th>\n",
       "            <th>patients_with_disease</th>\n",
       "        </tr>\n",
       "    </thead>\n",
       "    <tbody>\n",
       "        <tr>\n",
       "            <td>50 - 60</td>\n",
       "            <td>3640</td>\n",
       "        </tr>\n",
       "        <tr>\n",
       "            <td>under 30</td>\n",
       "            <td>3521</td>\n",
       "        </tr>\n",
       "        <tr>\n",
       "            <td>60 - 70</td>\n",
       "            <td>3552</td>\n",
       "        </tr>\n",
       "        <tr>\n",
       "            <td>30 - 40</td>\n",
       "            <td>3937</td>\n",
       "        </tr>\n",
       "        <tr>\n",
       "            <td>40 - 50</td>\n",
       "            <td>3568</td>\n",
       "        </tr>\n",
       "        <tr>\n",
       "            <td>over 70</td>\n",
       "            <td>7089</td>\n",
       "        </tr>\n",
       "    </tbody>\n",
       "</table>"
      ],
      "text/plain": [
       "[('50 - 60', 3640),\n",
       " ('under 30', 3521),\n",
       " ('60 - 70', 3552),\n",
       " ('30 - 40', 3937),\n",
       " ('40 - 50', 3568),\n",
       " ('over 70', 7089)]"
      ]
     },
     "execution_count": 34,
     "metadata": {},
     "output_type": "execute_result"
    }
   ],
   "source": [
    "%%sql \n",
    "WITH age_grouping AS (\n",
    "    SELECT\n",
    "        *,\n",
    "        CASE\n",
    "            WHEN age < 30 then 'under 30'\n",
    "            WHEN age < 41 then '30 - 40'\n",
    "            WHEN age < 51 then '40 - 50'\n",
    "            WHEN age < 61 then '50 - 60'\n",
    "            WHEN age < 71 then '60 - 70'\n",
    "            else 'over 70'\n",
    "        END as AGEGROUP\n",
    "    FROM healthcare.health_data\n",
    ")\n",
    "SELECT\n",
    "    AGEGROUP,\n",
    "    COUNT(*) patients_with_disease\n",
    "FROM\n",
    "    age_grouping\n",
    "WHERE\n",
    "    heart_disease = 1\n",
    "GROUP BY\n",
    "    AGEGROUP"
   ]
  },
  {
   "cell_type": "code",
   "execution_count": 23,
   "metadata": {},
   "outputs": [
    {
     "name": "stdout",
     "output_type": "stream",
     "text": [
      " * mssql+pyodbc://?odbc_connect=DRIVER%3D%7BODBC+Driver+18+for+SQL+Server%7D%3BSERVER%3Djfpdb.database.windows.net%3BDATABASE%3Djfpdb%3BUID%3Djfp%3BPWD%3D16%2AraccIEjos\n",
      "Done.\n"
     ]
    },
    {
     "data": {
      "text/html": [
       "<table>\n",
       "    <thead>\n",
       "        <tr>\n",
       "            <th>agegroup</th>\n",
       "            <th>resting_ecg_results</th>\n",
       "        </tr>\n",
       "    </thead>\n",
       "    <tbody>\n",
       "        <tr>\n",
       "            <td>40 - 50</td>\n",
       "            <td>2</td>\n",
       "        </tr>\n",
       "    </tbody>\n",
       "</table>"
      ],
      "text/plain": [
       "[('40 - 50', 2)]"
      ]
     },
     "execution_count": 23,
     "metadata": {},
     "output_type": "execute_result"
    }
   ],
   "source": [
    "%%sql\n",
    "SELECT\n",
    "    TOP 1 '40 - 50' agegroup, resting_ecg_results\n",
    "FROM\n",
    "    healthcare.health_data\n",
    "WHERE\n",
    "    heart_disease = 1 AND age BETWEEN 40 AND 50\n",
    "GROUP BY\n",
    "    resting_ecg_results\n",
    "ORDER BY COUNT(*) DESC;"
   ]
  }
 ],
 "metadata": {
  "kernelspec": {
   "display_name": "amitech",
   "language": "python",
   "name": "python3"
  },
  "language_info": {
   "codemirror_mode": {
    "name": "ipython",
    "version": 3
   },
   "file_extension": ".py",
   "mimetype": "text/x-python",
   "name": "python",
   "nbconvert_exporter": "python",
   "pygments_lexer": "ipython3",
   "version": "3.10.12"
  }
 },
 "nbformat": 4,
 "nbformat_minor": 2
}
